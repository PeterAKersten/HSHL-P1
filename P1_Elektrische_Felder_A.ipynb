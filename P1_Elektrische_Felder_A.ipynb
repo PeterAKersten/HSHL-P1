{
 "cells": [
  {
   "cell_type": "markdown",
   "metadata": {
    "slideshow": {
     "slide_type": "slide"
    }
   },
   "source": [
    "# Versuch 1: Berechnen und Visualisieren von elektrischen Feldern\n",
    "\n",
    "Lehrveranstaltung: Praktikum ET II   \n",
    "Modul: Mess- und Regelungstechnik, Digitaltechnik und statistische Verfahren (WNG-B-2-4.07)   \n",
    "   \n",
    "Sommersemester 2020\n",
    "\n",
    "[Peter Kersten](https://www.hshl.de/personen/prof-dr-ing-peter-kersten), Hamm-Lippstadt University of Applied Sciences"
   ]
  },
  {
   "cell_type": "markdown",
   "metadata": {
    "slideshow": {
     "slide_type": "slide"
    }
   },
   "source": [
    "## Motivation\n",
    "Mit dem Konzept des elektrischen Feldes können wir sehr gut die elektrostatische Kraft beschreiben, die von einer Ladung auf eine andere Ladung wirkt. Im Gegensatz zu mechanischen Größen können wir allerdings viel schwerer abschätzen, welche Zahlenwerte für elektrische Felder resultieren. In diesem Praktikum wollen wir elektrische Felder mit der Software Python berechnen und visualisieren, um eine konkretere Vorstellung der elektrostatischen Wechselwirkung zu entwickeln."
   ]
  },
  {
   "cell_type": "markdown",
   "metadata": {
    "slideshow": {
     "slide_type": "slide"
    }
   },
   "source": [
    "## Praktikumsdurchführung\n",
    "Das Praktikum findet im Sommersemester 2020 mithilfe einer Webkonferenz im Online-Lernformat (BigBlueButton) statt, die Einladung hierzu erfolgt über die Lernplattform. Auf der Lernplattform finden Sie auch die entsprechenden Zeiten und die Gruppeneinteilungen. Im Rahmen der als Webkonferenz durchgeführten Online-Veranstaltungen können wir das Praktikum ausführlich besprechen, Fragen diskutieren und bereits mit der Lösung der Aufgaben starten. \n",
    "### Dokumentation\n",
    "Nach dem Praktikum vervollständigen Sie bitte dieses Jupyter Notebook und speichern es als PDF-Dokument ab. Als Dateinamen verwenden Sie bitte die folgende Notation:    \n",
    "   \n",
    "Nachname_Vorname_Gruppennummer.pdf   \n",
    "   \n",
    "Also beispielsweise: Mustermann_Max_4.pdf   \n",
    "   \n",
    "Laden Sie dieses PDF Dokument dann innerhalb einer Woche nach dem Durchführen des Praktikumsversuches auf die Lernplattform hoch. Die Teilnahmepflicht am Praktikum wird durch Ihre Teilnahme an der Webkonferenz dokumentiert.\n",
    "### Persönliche Angaben\n",
    "Bitte ergänzen Sie folgende Angaben:\n",
    "\n",
    "Name:   \n",
    "Vorname:    \n",
    "Gruppe:    \n",
    "Matrikel-Nummer:    \n",
    "\n",
    "### Lösung der Aufgaben  \n",
    "Bitte fügen Sie Ihre Lösung (begleitenden Text wie Kommentare und die Python Codes) an den vorgesehenen Stellen in dieses Jupyter Notebook ein."
   ]
  },
  {
   "cell_type": "markdown",
   "metadata": {
    "slideshow": {
     "slide_type": "slide"
    }
   },
   "source": [
    "## Elektrische Felder: eine kurze Einführung\n",
    "Die elektrostatische Wechselwirkung wirkt längs der Verbindungslinie zwischen zwei Punktladungen ($q_1$ und $q_2$). Sie ist umgekehrt proportional zum Quadrat des Abstandes $r$ der Ladungen und proportional zum Produkt der Ladungen. Die resultierende Kraft lässt sich mit Hilfe des Coulomb´schen Gesetzes berechnen. Für den Betrag der Kraft $F$ gilt:\n",
    "\n",
    "$F=\\frac{1}{4\\,\\pi\\,\\epsilon_0}\\,\\frac{q_1\\cdot q_2}{r^2}$     \n",
    "\n",
    "Mit der Dielektrizitätskonstanten $\\epsilon_0=8,85416\\cdot 10^{-12}\\,\\text{C}^2/\\,\\text{N}\\cdot \\text{m}^2$.   \n",
    "   \n",
    "Um die Kraft in vektorieller Form ($\\vec{F}$) zu berechnen können wir den Betrag der Kraft mit dem Einheitsvektor $\\vec{r}/r$ multiplizieren und erhalten:   \n",
    "   \n",
    "$\\vec{F}=\\frac{1}{4\\,\\pi\\,\\epsilon_0}\\,\\frac{q_1\\cdot q_2}{r^3}\\cdot \\vec{r}$      \n",
    " \n",
    "Das elektrische Feld $\\vec{E}$ am Ort der Ladung $q_0=$ ist folgendermaßen als der Quotient aus der resultierenden Kraft  auf definiert:   \n",
    "   \n",
    "$\\vec{E}=\\frac{\\vec{F}}{q_0}$\n",
    "\n",
    "Für das Feld eines Systems von Punktladungen gilt:\n",
    "\n",
    "$E=\\sum E_i= \\sum \\frac{1}{4\\,\\pi\\,\\epsilon_0}\\,\\frac{q_i}{r^3}\\cdot \\vec{r_i}$   \n"
   ]
  },
  {
   "cell_type": "code",
   "execution_count": 1,
   "metadata": {
    "slideshow": {
     "slide_type": "notes"
    }
   },
   "outputs": [],
   "source": [
    "%matplotlib inline\n",
    "import numpy as np\n",
    "import sympy as sp\n",
    "import math as m\n",
    "import matplotlib.pyplot as plt\n",
    "import ipywidgets as widgets\n",
    "\n",
    "from ipywidgets import interact\n",
    "from sympy import symbols\n",
    "from sympy.plotting import plot3d\n",
    "from matplotlib.pyplot import figure\n",
    "from mpl_toolkits.mplot3d import Axes3D"
   ]
  },
  {
   "cell_type": "markdown",
   "metadata": {
    "slideshow": {
     "slide_type": "slide"
    }
   },
   "source": [
    "## Aufgabe 1: Berechnen des elektrisches Feldes auf einer Verbindungslinie\n",
    " \n",
    "### Aufgabenstellung\n",
    "Das elektrische Feld ist eine Vektorfunktion des Ortes und ergibt sich aus der Summe der Felder der einzelnen Ladungen. Wir wollen das elektrische Feld der beiden positiven Ladungen $q_1=+8,0\\,\\text{nC}$ und $q_1=+12,0\\,\\text{nC}$ analysieren, die sich auf der $x$-Achse bei $x_1=-1,0\\,\\text{m}$ und $x_2=+3,0\\,\\text{m}$ befinden.     \n",
    "\n",
    "a)  Visualisieren Sie das elektrische Feld der beiden positiven Ladungen in einem Diagramm für Feldpunkte auf der Verbindungslinie zwischen den beiden Ladungen. Berücksichtigen Sie den Bereich zwischen $x=-3,0\\,\\text{m}$ und  $x=+5,0\\,\\text{m}$.\n",
    "\n",
    "b) Berechnen Sie das resultierende elektrische Feld auf der $x$-Achse an den Punkten $A$ bei $x_A=+6,0\\,\\text{m}$ und bei $x_B=+2,0\\,\\text{m}$.     \n",
    "   \n",
    "c) Da in dieser Aufgabenstellung alle betrachteten Feldpunkte $P$ auf der $x$-Achse liegen, weisen ebenfalls die Einheitsvektoren $\\vec{r_i}/r_i$ ausschließlich $x$-Werte auf. Welche Funktion erfüllen die Einheitsvektoren bei dieser Aufgabenstellung? "
   ]
  },
  {
   "cell_type": "markdown",
   "metadata": {
    "slideshow": {
     "slide_type": "subslide"
    }
   },
   "source": [
    "### Lösung 1 a)\n",
    "Geben Sie hier Ihren Text ein ..."
   ]
  },
  {
   "cell_type": "code",
   "execution_count": 2,
   "metadata": {
    "slideshow": {
     "slide_type": "subslide"
    }
   },
   "outputs": [],
   "source": [
    "# Geben Sie hier Ihre Python Codes ein\n",
    "\n"
   ]
  },
  {
   "cell_type": "markdown",
   "metadata": {
    "slideshow": {
     "slide_type": "subslide"
    }
   },
   "source": [
    "### Lösung 1 b)\n",
    "Geben Sie hier Ihren Text ein ..."
   ]
  },
  {
   "cell_type": "code",
   "execution_count": 3,
   "metadata": {
    "slideshow": {
     "slide_type": "subslide"
    }
   },
   "outputs": [],
   "source": [
    "# Geben Sie hier Ihre Python Codes ein\n",
    "\n"
   ]
  },
  {
   "cell_type": "markdown",
   "metadata": {
    "slideshow": {
     "slide_type": "subslide"
    }
   },
   "source": [
    "### Lösung 1 c)\n",
    "\n",
    "Geben Sie hier Ihren Text ein ...\n"
   ]
  },
  {
   "cell_type": "markdown",
   "metadata": {
    "slideshow": {
     "slide_type": "subslide"
    }
   },
   "source": [
    "### Tipps zur Lösung der Aufgabe 1\n",
    "Zahlen in wissenschaftlicher Notation können folgendermaßen eingegeben werden:"
   ]
  },
  {
   "cell_type": "code",
   "execution_count": 4,
   "metadata": {
    "slideshow": {
     "slide_type": "subslide"
    }
   },
   "outputs": [
    {
     "name": "stdout",
     "output_type": "stream",
     "text": [
      "8.854e-12\n"
     ]
    }
   ],
   "source": [
    "e0 = 8.854e-12\n",
    "print(e0)"
   ]
  },
  {
   "cell_type": "markdown",
   "metadata": {
    "slideshow": {
     "slide_type": "subslide"
    }
   },
   "source": [
    "Variablen können folgendermaßen als symbolisch definiert werden:"
   ]
  },
  {
   "cell_type": "code",
   "execution_count": 5,
   "metadata": {
    "slideshow": {
     "slide_type": "subslide"
    }
   },
   "outputs": [
    {
     "data": {
      "text/latex": [
       "$\\displaystyle x^{2}$"
      ],
      "text/plain": [
       "x**2"
      ]
     },
     "execution_count": 5,
     "metadata": {},
     "output_type": "execute_result"
    }
   ],
   "source": [
    "x = symbols('x')\n",
    "f = x**2\n",
    "f"
   ]
  },
  {
   "cell_type": "markdown",
   "metadata": {
    "slideshow": {
     "slide_type": "subslide"
    }
   },
   "source": [
    "Eine Funktion kann folgendermaßen definiert werden:"
   ]
  },
  {
   "cell_type": "code",
   "execution_count": 6,
   "metadata": {
    "slideshow": {
     "slide_type": "subslide"
    }
   },
   "outputs": [
    {
     "data": {
      "text/plain": [
       "13"
      ]
     },
     "execution_count": 6,
     "metadata": {},
     "output_type": "execute_result"
    }
   ],
   "source": [
    "def f(x):\n",
    "    f = x**2 + 2*x + 5\n",
    "    return (f)\n",
    "\n",
    "f(2)"
   ]
  },
  {
   "cell_type": "markdown",
   "metadata": {
    "slideshow": {
     "slide_type": "subslide"
    }
   },
   "source": [
    "Eine Funktion kann natürlich auch von mehr als einer Größe abhängen:"
   ]
  },
  {
   "cell_type": "code",
   "execution_count": 7,
   "metadata": {
    "slideshow": {
     "slide_type": "subslide"
    }
   },
   "outputs": [
    {
     "data": {
      "text/plain": [
       "15"
      ]
     },
     "execution_count": 7,
     "metadata": {},
     "output_type": "execute_result"
    }
   ],
   "source": [
    "def f(x,y):\n",
    "    f = x**2 + 2*y + 5\n",
    "    return (f)\n",
    "\n",
    "f(2,3)"
   ]
  },
  {
   "cell_type": "markdown",
   "metadata": {
    "slideshow": {
     "slide_type": "subslide"
    }
   },
   "source": [
    "Um die Zahl $\\pi$ nicht selber definieren zu müssen, kann diese folgendermaßen aufgerufen werden:"
   ]
  },
  {
   "cell_type": "code",
   "execution_count": 8,
   "metadata": {
    "slideshow": {
     "slide_type": "subslide"
    }
   },
   "outputs": [
    {
     "data": {
      "text/plain": [
       "3.141592653589793"
      ]
     },
     "execution_count": 8,
     "metadata": {},
     "output_type": "execute_result"
    }
   ],
   "source": [
    "m.pi"
   ]
  },
  {
   "cell_type": "markdown",
   "metadata": {
    "slideshow": {
     "slide_type": "subslide"
    }
   },
   "source": [
    "Den Betrag eines Wertes kann man mit dem Befehl $\\texttt{abs()}$ ermittel:"
   ]
  },
  {
   "cell_type": "code",
   "execution_count": 9,
   "metadata": {
    "slideshow": {
     "slide_type": "subslide"
    }
   },
   "outputs": [
    {
     "data": {
      "text/plain": [
       "5"
      ]
     },
     "execution_count": 9,
     "metadata": {},
     "output_type": "execute_result"
    }
   ],
   "source": [
    "abs(-5)"
   ]
  },
  {
   "cell_type": "markdown",
   "metadata": {
    "slideshow": {
     "slide_type": "subslide"
    }
   },
   "source": [
    "Potenzen, wie beispielsweise $3^2$ können folgendermaßen berechnet werden:"
   ]
  },
  {
   "cell_type": "code",
   "execution_count": 10,
   "metadata": {
    "slideshow": {
     "slide_type": "subslide"
    }
   },
   "outputs": [
    {
     "data": {
      "text/plain": [
       "9"
      ]
     },
     "execution_count": 10,
     "metadata": {},
     "output_type": "execute_result"
    }
   ],
   "source": [
    "3**2"
   ]
  },
  {
   "cell_type": "markdown",
   "metadata": {
    "slideshow": {
     "slide_type": "slide"
    }
   },
   "source": [
    "## Aufgabe 2: Visualisierung des elektrischen Feldes\n",
    "### Aufgabenstellung\n",
    "Die Beschreibung des elektrischen Feldes an den verschiedenen Punkten einer Ebene kann mit Hilfe zweidimensionaler Vektoren erfolgen. Wir betrachten zwei Punktladungen $q_1=+8,0\\,\\text{nC}$ im Koordinatenursprung und $q_2=+12,0\\,\\text{nC}$ auf der $x$-Achse bei $x=+4,0\\,\\text{m}$.   \n",
    "\n",
    "a) Berechnen Sie das elektrische Feld $\\vec{E}$ für den Feldpunkt $P$ auf der $y$-Achse bei $y=+3,0\\,\\text{m}$.   \n",
    "\n",
    "b) Stellen Sie zusätzlich die elektrischen Felder $\\vec{E_1}$ und $\\vec{E_2}$, die durch die beiden Ladungen $q_1$ und $q_2$ erzeugt werden, mithilfe von Vektoren dar sowie das gesamte resultierende Feld $\\vec{E}$ am Feldpunkt $P$. Zweidimensionale Vektoren können mithilfe der Funktion quiver dargestellt werden."
   ]
  },
  {
   "cell_type": "markdown",
   "metadata": {
    "slideshow": {
     "slide_type": "subslide"
    }
   },
   "source": [
    "### Lösung 2 a)\n",
    "\n",
    "Geben Sie hier Ihren Text ein ...\n"
   ]
  },
  {
   "cell_type": "code",
   "execution_count": 11,
   "metadata": {
    "slideshow": {
     "slide_type": "subslide"
    }
   },
   "outputs": [],
   "source": [
    "# Geben Sie hier Ihre Python Codes ein\n",
    "\n"
   ]
  },
  {
   "cell_type": "markdown",
   "metadata": {
    "slideshow": {
     "slide_type": "subslide"
    }
   },
   "source": [
    "### Lösung 2 b)\n",
    "Geben Sie hier Ihren Text ein ..."
   ]
  },
  {
   "cell_type": "code",
   "execution_count": 12,
   "metadata": {},
   "outputs": [],
   "source": [
    "# Geben Sie hier Ihre Python Codes ein\n",
    "\n"
   ]
  },
  {
   "cell_type": "markdown",
   "metadata": {
    "slideshow": {
     "slide_type": "subslide"
    }
   },
   "source": [
    "### Tipps zur Lösung der Aufgabe 2\n",
    "\n",
    "Einen zweidimensionalen Spaltenvektor $\\vec{a}$ kann man folgendermaßen erzeugen:"
   ]
  },
  {
   "cell_type": "code",
   "execution_count": 13,
   "metadata": {
    "slideshow": {
     "slide_type": "subslide"
    }
   },
   "outputs": [
    {
     "name": "stdout",
     "output_type": "stream",
     "text": [
      "[1 2]\n"
     ]
    },
    {
     "data": {
      "text/plain": [
       "2.23606797749979"
      ]
     },
     "execution_count": 13,
     "metadata": {},
     "output_type": "execute_result"
    }
   ],
   "source": [
    "a = np.array([1,2])\n",
    "print(a)\n",
    "np.linalg.norm(a)"
   ]
  },
  {
   "cell_type": "markdown",
   "metadata": {
    "slideshow": {
     "slide_type": "subslide"
    }
   },
   "source": [
    "Die Norm des Vektors $|\\vec{a}|$ lässt sicht folgendermaßen berechnen:"
   ]
  },
  {
   "cell_type": "code",
   "execution_count": 14,
   "metadata": {
    "slideshow": {
     "slide_type": "subslide"
    }
   },
   "outputs": [
    {
     "data": {
      "text/plain": [
       "2.23606797749979"
      ]
     },
     "execution_count": 14,
     "metadata": {},
     "output_type": "execute_result"
    }
   ],
   "source": [
    "np.linalg.norm(a)"
   ]
  },
  {
   "cell_type": "markdown",
   "metadata": {
    "slideshow": {
     "slide_type": "subslide"
    }
   },
   "source": [
    "Die $x$- und $y$-Werte des Vektors $a$ lassen sich folgendermaßen auslesen:"
   ]
  },
  {
   "cell_type": "code",
   "execution_count": 15,
   "metadata": {
    "slideshow": {
     "slide_type": "subslide"
    }
   },
   "outputs": [
    {
     "name": "stdout",
     "output_type": "stream",
     "text": [
      "ax = 1\n",
      "ay = 2\n"
     ]
    }
   ],
   "source": [
    "a[0] # x-Wert\n",
    "a[1] # y-Wert\n",
    "print('ax =', a[0])\n",
    "print('ay =', a[1])"
   ]
  },
  {
   "cell_type": "markdown",
   "metadata": {
    "slideshow": {
     "slide_type": "slide"
    }
   },
   "source": [
    "## Aufgabe 3: Berechnen und Visualisieren des elektrischen Potenzials\n",
    "### Aufgabenstellung\n",
    "Sie wollen das elektrische Potenzial $\\phi(x,y,0)$ zweier Punktladungen von  $+5,0\\,\\text{nC}$ analysieren. Die beiden Ladungen befinden sich auf der $x$-Achse. Eine Ladung befindet sich im Koordinatenursprung und die andere bei $x=+8,0\\,\\text{cm}$.  \n",
    "   \n",
    "a) Visualisieren Sie das elektrische Potenzial mit Hilfe einer Gitternetzdarstellung.   \n",
    "\n",
    "   \n",
    "b) Berechnen Sie das Potenzial an den vorgegebenen Punkten $P_1$ (auf der $y$-Achse bei $x=+4,0\\,\\text{cm}$) und $P_2$ (auf der $y$-Achse bei $y=+6,0\\,\\text{cm}$)."
   ]
  },
  {
   "cell_type": "markdown",
   "metadata": {
    "slideshow": {
     "slide_type": "subslide"
    }
   },
   "source": [
    "### Lösung 3 a)\n",
    "\n",
    "Geben Sie hier Ihren Text ein ..."
   ]
  },
  {
   "cell_type": "code",
   "execution_count": 16,
   "metadata": {
    "slideshow": {
     "slide_type": "subslide"
    }
   },
   "outputs": [],
   "source": [
    "# Geben Sie hier Ihre Python Codes ein\n",
    "\n"
   ]
  },
  {
   "cell_type": "markdown",
   "metadata": {
    "slideshow": {
     "slide_type": "subslide"
    }
   },
   "source": [
    "### Lösung 3 b)\n",
    "\n",
    "Geben Sie hier Ihren Text ein ...\n"
   ]
  },
  {
   "cell_type": "code",
   "execution_count": 17,
   "metadata": {
    "slideshow": {
     "slide_type": "subslide"
    }
   },
   "outputs": [],
   "source": [
    "# Geben Sie hier Ihre Python Codes ein\n",
    "\n"
   ]
  },
  {
   "cell_type": "markdown",
   "metadata": {
    "slideshow": {
     "slide_type": "subslide"
    }
   },
   "source": [
    "### Tipps zur Lösung der Aufgabe 3\n",
    "Wurzelausdrücke können folgendermaßen berechnet werden:"
   ]
  },
  {
   "cell_type": "code",
   "execution_count": 18,
   "metadata": {
    "slideshow": {
     "slide_type": "subslide"
    }
   },
   "outputs": [
    {
     "data": {
      "text/plain": [
       "1.4142135623730951"
      ]
     },
     "execution_count": 18,
     "metadata": {},
     "output_type": "execute_result"
    }
   ],
   "source": [
    "np.sqrt(2)"
   ]
  },
  {
   "cell_type": "markdown",
   "metadata": {
    "slideshow": {
     "slide_type": "slide"
    }
   },
   "source": [
    "## Aufgabe 4: Berechnen des elektrischen Feldes mit Hilfe des Gradienten\n",
    "### Aufgabenstellung\n",
    "Sie wollen das elektrische Potenzial $\\phi(x,y,0)$ zweier Punktladungen von  $+5,0\\,\\text{nC}$ analysieren. Die beiden Ladungen befinden sich auf der $x$-Achse. Eine Ladung befindet sich im Koordinatenursprung und die andere bei $x=+8,0\\,\\text{cm}$.  \n",
    "\n",
    "a) Berechnen Sie daraus das elektrische Feld mit Hilfe des Gradienten $\\vec{E}=-\\nabla\\,\\phi$.   \n",
    "   \n",
    "b) Visualisieren Sie das so berechnete elektrische Feld mit Hilfe von Feldlinien."
   ]
  },
  {
   "cell_type": "markdown",
   "metadata": {
    "slideshow": {
     "slide_type": "subslide"
    }
   },
   "source": [
    "## Lösung 4 a)\n",
    "\n",
    "Geben Sie hier Ihren Text ein ...\n"
   ]
  },
  {
   "cell_type": "code",
   "execution_count": 19,
   "metadata": {
    "slideshow": {
     "slide_type": "subslide"
    }
   },
   "outputs": [],
   "source": [
    "# Geben Sie hier Ihre Python Codes ein\n",
    "\n"
   ]
  },
  {
   "cell_type": "markdown",
   "metadata": {
    "slideshow": {
     "slide_type": "subslide"
    }
   },
   "source": [
    "## Lösung 4 b)\n",
    "\n",
    "Geben Sie hier Ihren Text ein ...\n"
   ]
  },
  {
   "cell_type": "code",
   "execution_count": 20,
   "metadata": {
    "slideshow": {
     "slide_type": "subslide"
    }
   },
   "outputs": [],
   "source": [
    "# Geben Sie hier Ihre Python Codes ein\n",
    "\n"
   ]
  },
  {
   "cell_type": "markdown",
   "metadata": {
    "slideshow": {
     "slide_type": "subslide"
    }
   },
   "source": [
    "### Tipps zur Lösung der Aufgabe 4\n",
    "Gradienten der Funktion $f(x,y)$ können folgendermaßen berechnet und mit Vektoren dargestellt werden:"
   ]
  },
  {
   "cell_type": "code",
   "execution_count": 21,
   "metadata": {
    "slideshow": {
     "slide_type": "subslide"
    }
   },
   "outputs": [
    {
     "data": {
      "image/png": "[encoded data removed]",
      "text/plain": [
       "<Figure size 432x288 with 1 Axes>"
      ]
     },
     "metadata": {
      "needs_background": "light"
     },
     "output_type": "display_data"
    }
   ],
   "source": [
    "x = np.linspace(1,5,10)\n",
    "y = np.linspace(1,5,10)\n",
    "X, Y = np.meshgrid(x, y, indexing = 'ij')\n",
    "f = X*3 + 3/Y\n",
    "dx, dy = np.gradient(f)\n",
    "fig, ax = plt.subplots()\n",
    "ax.quiver(X, Y, -dx, -dy)\n",
    "ax.axis([1.5, 5, 0.5, 5.5])\n",
    "ax.set_xlabel('x')\n",
    "ax.set_ylabel('y')\n",
    "ax.set_title('Gradient der Funktion f')\n",
    "ax.grid()"
   ]
  },
  {
   "cell_type": "markdown",
   "metadata": {
    "slideshow": {
     "slide_type": "slide"
    }
   },
   "source": [
    "## Tipps für das Arbeiten mit dem Jupyter Notebook"
   ]
  },
  {
   "cell_type": "markdown",
   "metadata": {
    "slideshow": {
     "slide_type": "subslide"
    }
   },
   "source": [
    "### Variablen Werte zuweisen\n",
    "So können Sie Variablen Werte zuweisen und diese mithilfe des Befehls $\\texttt{print}$ ausgeben:"
   ]
  },
  {
   "cell_type": "code",
   "execution_count": 22,
   "metadata": {
    "slideshow": {
     "slide_type": "subslide"
    }
   },
   "outputs": [
    {
     "name": "stdout",
     "output_type": "stream",
     "text": [
      "8.854e-12\n",
      "8e-09\n",
      "1.2e-08\n"
     ]
    }
   ],
   "source": [
    "e0 = 8.854e-12\n",
    "q1 = 8e-9\n",
    "q2 = 12e-9\n",
    "print(e0)\n",
    "print(q1)\n",
    "print(q2)"
   ]
  },
  {
   "cell_type": "markdown",
   "metadata": {
    "slideshow": {
     "slide_type": "subslide"
    }
   },
   "source": [
    "### Funktionsgraphen plotten\n",
    "\n",
    "Zum Plotten von Funktionen können $x$-$y$-Wertepaare erzeugt werden, die dann mit dem Befehl $\\texttt{plt.plot}$ geplottet werden können:"
   ]
  },
  {
   "cell_type": "code",
   "execution_count": 23,
   "metadata": {
    "slideshow": {
     "slide_type": "subslide"
    }
   },
   "outputs": [
    {
     "data": {
      "text/plain": [
       "[<matplotlib.lines.Line2D at 0x15c4514c828>]"
      ]
     },
     "execution_count": 23,
     "metadata": {},
     "output_type": "execute_result"
    },
    {
     "data": {
      "image/png": "[encoded data removed]",
      "text/plain": [
       "<Figure size 432x288 with 1 Axes>"
      ]
     },
     "metadata": {
      "needs_background": "light"
     },
     "output_type": "display_data"
    }
   ],
   "source": [
    "x = [0, 1, 2, 3, 4]\n",
    "y = [0, 1, 4, 9, 16]\n",
    "plt.plot(x,y)"
   ]
  },
  {
   "cell_type": "markdown",
   "metadata": {
    "slideshow": {
     "slide_type": "subslide"
    }
   },
   "source": [
    "Die $x$-Werte müssen aber nicht manuel erzeugt werden, sondern können beispielsweise mit dem Befehl $\\texttt{x = np.arange(0,5,0.5)}$ automatisch generiert werden. So erhalten wir Werte im Bereich $x=0 ... 5$ mit der Schrittweite $0,5$:"
   ]
  },
  {
   "cell_type": "code",
   "execution_count": 24,
   "metadata": {
    "slideshow": {
     "slide_type": "subslide"
    }
   },
   "outputs": [
    {
     "name": "stdout",
     "output_type": "stream",
     "text": [
      "[0.  0.5 1.  1.5 2.  2.5 3.  3.5 4.  4.5]\n"
     ]
    }
   ],
   "source": [
    "x = np.arange(0,5,0.5)\n",
    "print(x)"
   ]
  },
  {
   "cell_type": "markdown",
   "metadata": {
    "slideshow": {
     "slide_type": "subslide"
    }
   },
   "source": [
    "Mit diesen $x$-Werten berechnen wir dann die Funktion $f(x)$. Die Werte speichern wir in der Variablen $\\texttt{f1}$. Danach können wir die Funktion mit dem Befehl $\\texttt{plt.plot}$ plotten:"
   ]
  },
  {
   "cell_type": "code",
   "execution_count": 25,
   "metadata": {
    "slideshow": {
     "slide_type": "subslide"
    }
   },
   "outputs": [
    {
     "data": {
      "text/plain": [
       "[<matplotlib.lines.Line2D at 0x15c451b9da0>]"
      ]
     },
     "execution_count": 25,
     "metadata": {},
     "output_type": "execute_result"
    },
    {
     "data": {
      "image/png": "[encoded data removed]",
      "text/plain": [
       "<Figure size 432x288 with 1 Axes>"
      ]
     },
     "metadata": {
      "needs_background": "light"
     },
     "output_type": "display_data"
    }
   ],
   "source": [
    "f1 = x**2\n",
    "plt.plot(x,f1)"
   ]
  },
  {
   "cell_type": "markdown",
   "metadata": {
    "slideshow": {
     "slide_type": "subslide"
    }
   },
   "source": [
    "Zur Vervollständigung des Diagramms (Diagramm und Achsen beschriften, Gitternetzlinien einfügen) können wir folgende Befehle verwenden:"
   ]
  },
  {
   "cell_type": "code",
   "execution_count": 26,
   "metadata": {
    "slideshow": {
     "slide_type": "subslide"
    }
   },
   "outputs": [
    {
     "data": {
      "image/png": "[encoded data removed]",
      "text/plain": [
       "<Figure size 432x288 with 1 Axes>"
      ]
     },
     "metadata": {
      "needs_background": "light"
     },
     "output_type": "display_data"
    }
   ],
   "source": [
    "plt.plot(x,f1)\n",
    "plt.title('Diagramm 1')\n",
    "plt.xlabel('x-Werte')\n",
    "plt.ylabel('f(x)-Werte')\n",
    "plt.grid()"
   ]
  },
  {
   "cell_type": "markdown",
   "metadata": {
    "slideshow": {
     "slide_type": "subslide"
    }
   },
   "source": [
    "Wir können den Graphen einer weiteren Funktion $\\texttt{f2}$ in das Diagramm einfügen:"
   ]
  },
  {
   "cell_type": "code",
   "execution_count": 27,
   "metadata": {
    "slideshow": {
     "slide_type": "subslide"
    }
   },
   "outputs": [
    {
     "data": {
      "image/png": "[encoded data removed]",
      "text/plain": [
       "<Figure size 432x288 with 1 Axes>"
      ]
     },
     "metadata": {
      "needs_background": "light"
     },
     "output_type": "display_data"
    }
   ],
   "source": [
    "f2 = 3*x\n",
    "plt.plot(x,f1,'g',x,f2,'--r')\n",
    "plt.title('Diagramm 2')\n",
    "plt.xlabel('x-Werte')\n",
    "plt.ylabel('f(x)-Werte')\n",
    "plt.grid()"
   ]
  },
  {
   "cell_type": "code",
   "execution_count": 28,
   "metadata": {
    "slideshow": {
     "slide_type": "subslide"
    }
   },
   "outputs": [
    {
     "data": {
      "text/plain": [
       "Text(0.5, 0, 'y')"
      ]
     },
     "execution_count": 28,
     "metadata": {},
     "output_type": "execute_result"
    },
    {
     "data": {
      "image/png": "[encoded data removed]",
      "text/plain": [
       "<Figure size 432x288 with 1 Axes>"
      ]
     },
     "metadata": {
      "needs_background": "light"
     },
     "output_type": "display_data"
    }
   ],
   "source": [
    "x = np.arange(0,6,1)\n",
    "y = np.arange(0,4,1)\n",
    "X, Y = np.meshgrid(x, y)\n",
    "f = X**2 + 3*Y\n",
    "ax = plt.axes(projection='3d')\n",
    "ax.plot_wireframe(X,Y,f)\n",
    "plt.xlabel('x')\n",
    "plt.ylabel('y')"
   ]
  },
  {
   "cell_type": "markdown",
   "metadata": {
    "slideshow": {
     "slide_type": "subslide"
    }
   },
   "source": [
    "### Symbolisch Rechnen\n",
    "In den o.g. Beispielen haben wir Variablen konkrete Zahlenwerte zugewiesen. Am Beispiel der einfachen Parabel $f(x)=x^2$ können wir die Funktion zunächst allgemein definieren und diese dann erst später für einen beliebigen Wert berechnen:"
   ]
  },
  {
   "cell_type": "code",
   "execution_count": 29,
   "metadata": {
    "slideshow": {
     "slide_type": "subslide"
    }
   },
   "outputs": [
    {
     "data": {
      "text/plain": [
       "4"
      ]
     },
     "execution_count": 29,
     "metadata": {},
     "output_type": "execute_result"
    }
   ],
   "source": [
    "def f(x):\n",
    "    f=x**2\n",
    "    return(f)\n",
    "f(2)\n"
   ]
  },
  {
   "cell_type": "markdown",
   "metadata": {
    "slideshow": {
     "slide_type": "subslide"
    }
   },
   "source": [
    "Eine Funktionen können wir auch symbolisch definieren und diese auch plotten:"
   ]
  },
  {
   "cell_type": "code",
   "execution_count": 30,
   "metadata": {
    "slideshow": {
     "slide_type": "subslide"
    }
   },
   "outputs": [
    {
     "data": {
      "image/png": "[encoded data removed]",
      "text/plain": [
       "<Figure size 432x288 with 1 Axes>"
      ]
     },
     "metadata": {
      "needs_background": "light"
     },
     "output_type": "display_data"
    },
    {
     "data": {
      "text/plain": [
       "<sympy.plotting.plot.Plot at 0x15c462f5c88>"
      ]
     },
     "execution_count": 30,
     "metadata": {},
     "output_type": "execute_result"
    }
   ],
   "source": [
    "x = symbols('x')\n",
    "f = x**2\n",
    "sp.plot(f, (x,0, 10), line_color='r')"
   ]
  },
  {
   "cell_type": "markdown",
   "metadata": {
    "slideshow": {
     "slide_type": "subslide"
    }
   },
   "source": [
    "### Darstellung von Vektoren\n",
    "Zweidimeinsionale Vektoren können mithilfe der Funktion $\\texttt{quiver}$ dargestellt werden. Einen Vektor mit den Komponenten $\\texttt{(u,v)}$ und dem Startpunkt $\\texttt{(x,y)}$ können wir mit der Eingabe $\\texttt{quiver(x,y,u,v)}$ zeichnen. Hierbei wird eine automatische Skalierung vorgenommen."
   ]
  },
  {
   "cell_type": "code",
   "execution_count": 31,
   "metadata": {
    "slideshow": {
     "slide_type": "subslide"
    }
   },
   "outputs": [
    {
     "data": {
      "image/png": "[encoded data removed]",
      "text/plain": [
       "<Figure size 432x288 with 1 Axes>"
      ]
     },
     "metadata": {
      "needs_background": "light"
     },
     "output_type": "display_data"
    }
   ],
   "source": [
    "fig, ax = plt.subplots()\n",
    "ax.quiver(0,0,20,20, color='r')\n",
    "ax.quiver(0,0,10,0, color='b')\n",
    "ax.set_xlabel('x')\n",
    "ax.set_ylabel('y')\n",
    "ax.set_title('Vektoren')\n",
    "ax.set_title('Darstellung von Vektoren')\n",
    "ax.grid()"
   ]
  },
  {
   "cell_type": "markdown",
   "metadata": {
    "slideshow": {
     "slide_type": "slide"
    }
   },
   "source": [
    "## Literatur\n",
    "Tipler, Paul A., Mosca, Gene, Kersten, P. (Hrsg.). Physik für Studierende der Naturwissenschaften und Technik, Springer-Verlag, 8. Auflage (2019)*   \n",
    "\n",
    "*als HSHL-eBook verfügbar: [Link](https://hshl.bsz-bw.de/cgi-bin/koha/opac-detail.pl?biblionumber=122460&query_desc=kw%2Cwrdl%3A+tipler)\n"
   ]
  },
  {
   "cell_type": "markdown",
   "metadata": {
    "slideshow": {
     "slide_type": "slide"
    }
   },
   "source": [
    "Dieses  Lehr-/Lernmaterial wurde im Rahmen des [Fellowships ](https://www.stifterverband.org/digital-lehrfellows-nrw/2019/temmen_kersten) für Innovationen in der digitalen Hochschullehre NRW 2019 des Ministeriums für Kultur und Wissenschaft des Landes Nordrhein-Westfalen und des Stifterverbandes entwickelt und steht unter der Lizenz [Creative Commons Attribution-ShareAlike 4.0 International License (CC BY-SA 4.0)](https://creativecommons.org/licenses/by-sa/4.0/) zur Verfügung.\n",
    "    \n",
    "<img align=\"left\" src=\"https://licensebuttons.net/l/by-sa/3.0/88x31.png\">"
   ]
  }
 ],
 "metadata": {
  "celltoolbar": "Slideshow",
  "kernelspec": {
   "display_name": "Python 3",
   "language": "python",
   "name": "python3"
  },
  "language_info": {
   "codemirror_mode": {
    "name": "ipython",
    "version": 3
   },
   "file_extension": ".py",
   "mimetype": "text/x-python",
   "name": "python",
   "nbconvert_exporter": "python",
   "pygments_lexer": "ipython3",
   "version": "3.6.8"
  }
 },
 "nbformat": 4,
 "nbformat_minor": 2
}
